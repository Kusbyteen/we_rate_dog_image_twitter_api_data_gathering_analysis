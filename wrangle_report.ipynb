{
 "cells": [
  {
   "cell_type": "markdown",
   "metadata": {},
   "source": [
    "## Reporting: wragle_report\n",
    "* Create a **300-600 word written report** called \"wrangle_report.pdf\" or \"wrangle_report.html\" that briefly describes your wrangling efforts. This is to be framed as an internal document."
   ]
  },
  {
   "cell_type": "markdown",
   "metadata": {},
   "source": [
    "This project consists of three (3) datasets from twitter on dog rating. These include twitter_archive, image prediction and twitter retweets data. The first two has been provided as part of the project. The third is also to be scrapped from the twitter API. The following steps was taken from the from the gathering to the generating of insights. \n",
    "First, the two datasets provided (i.e., archive and image prediction) were imported into jupyter using pandas. The third was also scrapped from twitter API. Basic assessments were done where Quality and Tiredness issues were identified. Quality issues identified included:\n",
    "The timestamp column is not in datetime data type and needs to be converted to datetime\n",
    "> 1.\tRemoving the jpg_url columns from the image prediction\n",
    "> 2.\tThe source columns have tags included and needs to strip to get only the text\n",
    "> 3.\tExtracting the required information from the text columns\n",
    "> 4.\tThe denominator column needs to be dropped since we already know it has a static value which is 10\n",
    "> 5.\tThe P columns in the image prediction needs to be reduced or transformed to fewer columns\n",
    "> 6.\tThe image number column should be dropped\n",
    "> 7.\tRemoving the retweet_user_id and retweet_status_user_id\n",
    "\n",
    "Tidiness issues identified also included:\n",
    "> 1.\tThe 'doggo', 'floofer', 'pupper', 'puppo' needs to put in one column\n",
    "> 2.\tThe in_reply_to_status_id and in_reply_to_user_id have a lot of missing data\n",
    "\n",
    "These were then handled accordingly using various data wrangling techniques. \n",
    "The first quality issue was about data types with timestamp column. Pandas to_datetime function was used to convert the column to the appropriate datetime data type. \n",
    "\n",
    "Also, columns that were not required were dropped. These included jpg_url, expaned_url, reply_to_status_id, in_reply_to_user_id, retweet_user_id and retweet_status_user_id. \n",
    "\n",
    "The P columns was reduced to two columns containing the breed and confidence columns. These four columns ('doggo', 'floofer', 'pupper', 'puppo') were converted into one column. \n",
    "\n",
    "And finally, the source column which contains a tag with additional information was cleaned to extract only the text contained within them.\n",
    "The three cleaned data were merged to form a single master dataset and stored on the home directory of the working environment. Basic analyses were performed to identify some insights. The following analysis were performed on the datasets:\n",
    "> 1.\tWhich platform or medium does people use most when presenting their rating?\n",
    "> 2.\tWhat are the top ten (10) breeds that have the highest retweet counts?\n",
    "> 3.\tWhich dog stages has the highest count?\n"
   ]
  }
 ],
 "metadata": {
  "kernelspec": {
   "display_name": "Python 3",
   "language": "python",
   "name": "python3"
  },
  "language_info": {
   "codemirror_mode": {
    "name": "ipython",
    "version": 3
   },
   "file_extension": ".py",
   "mimetype": "text/x-python",
   "name": "python",
   "nbconvert_exporter": "python",
   "pygments_lexer": "ipython3",
   "version": "3.6.3"
  }
 },
 "nbformat": 4,
 "nbformat_minor": 2
}
